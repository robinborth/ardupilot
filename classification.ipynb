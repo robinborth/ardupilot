{
  "nbformat": 4,
  "nbformat_minor": 0,
  "metadata": {
    "colab": {
      "name": "classification.ipynb",
      "provenance": [],
      "authorship_tag": "ABX9TyMkbIYw1RKlBQKzLZYiGbcG",
      "include_colab_link": true
    },
    "kernelspec": {
      "name": "python3",
      "display_name": "Python 3"
    },
    "language_info": {
      "name": "python"
    },
    "accelerator": "GPU",
    "gpuClass": "standard"
  },
  "cells": [
    {
      "cell_type": "markdown",
      "metadata": {
        "id": "view-in-github",
        "colab_type": "text"
      },
      "source": [
        "<a href=\"https://colab.research.google.com/github/robinborth/ardupilot/blob/main/classification.ipynb\" target=\"_parent\"><img src=\"https://colab.research.google.com/assets/colab-badge.svg\" alt=\"Open In Colab\"/></a>"
      ]
    },
    {
      "cell_type": "code",
      "execution_count": null,
      "metadata": {
        "id": "eCU3Pp5Bey1E"
      },
      "outputs": [],
      "source": [
        "!pip install transformers huggingface\n",
        "!git clone https://github.com/robinborth/ardupilot.git\n",
        "%cd ardupilot"
      ]
    },
    {
      "cell_type": "code",
      "source": [
        "import pandas as pd\n",
        "import json\n",
        "\n",
        "df = pd.read_csv('output.csv')\n",
        "df['causal'] = df['pairs_i'].apply(lambda x: bool(json.loads(x)))\n",
        "df = df.query(\"is_ardu == True\").reset_index(drop=True)\n",
        "df = df[['sentence', 'causal']]"
      ],
      "metadata": {
        "id": "f-jjawAVe9w9"
      },
      "execution_count": 12,
      "outputs": []
    },
    {
      "cell_type": "code",
      "source": [
        ""
      ],
      "metadata": {
        "id": "DDG_ecXKldqN",
        "outputId": "8814a9c6-5f6b-4b83-b421-bb1ee365185f",
        "colab": {
          "base_uri": "https://localhost:8080/"
        }
      },
      "execution_count": 15,
      "outputs": [
        {
          "output_type": "execute_result",
          "data": {
            "text/plain": [
              "False    296\n",
              "True     173\n",
              "Name: causal, dtype: int64"
            ]
          },
          "metadata": {},
          "execution_count": 15
        }
      ]
    }
  ]
}